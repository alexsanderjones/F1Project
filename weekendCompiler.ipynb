{
 "cells": [
  {
   "cell_type": "code",
   "execution_count": null,
   "id": "579455ea",
   "metadata": {},
   "outputs": [],
   "source": [
    "from fastf1 import api\n",
    "import pandas as pd\n",
    "from matplotlib import pyplot as plt\n",
    "from dfply import *\n",
    "from datetime import datetime\n",
    "from datetime import timedelta\n",
    "import tensorflow as tf\n",
    "from sklearn.model_selection import train_test_split\n",
    "from sklearn import preprocessing\n",
    "\n",
    "#note: you should put in a new folder to store cached data, github doesn't push empty folders so you have to do it manually\n",
    "fastf1.Cache.enable_cache('FastF1Cache')"
   ]
  },
  {
   "cell_type": "markdown",
   "id": "8d3c0de9",
   "metadata": {},
   "source": [
    "# Data Scraping"
   ]
  },
  {
   "cell_type": "code",
   "execution_count": 28,
   "id": "e8e5c01e",
   "metadata": {},
   "outputs": [],
   "source": [
    "def QualiScrape(grandPrix, raceDate, qualiDate):\n",
    "    \"\"\"\n",
    "    Input: grandPrix, Grand Prix's Race Date, Date of Qualifying\n",
    "    Returns: data frame with each driver matched to best qualifying time, along with tire and weather conditions\n",
    "    \"\"\"\n",
    "    #Build path to scrape data from\n",
    "    Quali = fastf1.api.make_path(grandPrix, raceDate, 'Qualifying', qualiDate)\n",
    "    \n",
    "    #Scraping timing data, timing app data (for info on tire compund), and weather data\n",
    "    QualiTiming = fastf1.api.timing_data(Quali)[0]\n",
    "    QualiTimingApp = fastf1.api.timing_app_data(Quali)\n",
    "    QualiWeatherDict = fastf1.api.weather_data(Quali)\n",
    "    QualiWeatherData = pd.DataFrame.from_dict(QualiWeatherDict)\n",
    "    \n",
    "    #Remove entries with no laptimes, and round session time to nearest minute (for merging purposes)\n",
    "    QualiTiming = QualiTiming[QualiTiming.LapTime.notnull()]\n",
    "    QualiTimingApp >>= mutate(Time = X.Time.round('60s')) >> arrange(X.Driver, X.Time)\n",
    "    QualiTimingApp = QualiTimingApp.reset_index()\n",
    "    \n",
    "    #In timing app dataframe, tire compound is only noted when new set is put on\n",
    "    #Since dataframe is organized by driver and then time, we can replace empty entries with the previous tire compound\n",
    "    #Also, dataframe sometime doubles on driver-time combo, so removing the unnecessary ones\n",
    "    for index in range(len(QualiTimingApp)):\n",
    "        if not QualiTimingApp.loc[index,\"Compound\"]:\n",
    "            QualiTimingApp.loc[index, \"Compound\"] = QualiTimingApp.loc[index-1, \"Compound\"]\n",
    "        if not QualiTimingApp.loc[index,\"New\"]:\n",
    "            QualiTimingApp.loc[index,\"New\"] = False\n",
    "        if index == 0:\n",
    "            continue\n",
    "        if QualiTimingApp.loc[index,\"Time\"] == QualiTimingApp.loc[index-1,\"Time\"]:\n",
    "            if not QualiTimingApp.loc[index,\"LapTime\"]:\n",
    "                QualiTimingApp.loc[index,\"Driver\"] = np.nan\n",
    "            else: \n",
    "                QualiTimingApp.loc[index-1,\"Driver\"] = np.nan                \n",
    "    QualiTimingApp = QualiTimingApp[QualiTimingApp.Driver.notnull()]\n",
    "    \n",
    "    #Selecting relevant rows\n",
    "    QualiTimingApp >>= select(X.Stint, X.Driver, X.TotalLaps, X.Compound, X.New, X.Time)\n",
    "    QualiTiming = QualiTiming >> mutate(Time = X.Time.round('60s')) >> arrange(X.Driver, X.Time) >> \\\n",
    "              drop(contains(\"Session\"), X.PitOutTime, X.PitInTime)\n",
    "\n",
    "    QualiCompiledTiming = pd.merge(QualiTiming,QualiTimingApp, on=['Time', 'Driver'])\n",
    "\n",
    "    QualiWeatherData >>= mutate(Time = X.Time.round('60s'))\n",
    "    QualiCompiledTiming = pd.merge(QualiCompiledTiming, QualiWeatherData, on=['Time'])\n",
    "    QualiCompiledTiming >>= arrange(X.Driver, X.Time)\n",
    "    QualiCompiledTiming = QualiCompiledTiming.reset_index()\n",
    "    \n",
    "    #Creating List of all drivers, then finding the best lap time for them\n",
    "    driverList = QualiCompiledTiming.Driver.unique()\n",
    "    QualiTimes = {}\n",
    "    for drv in driverList:\n",
    "        QualiTimes[drv] = [drv, QualiTiming[QualiTiming.Driver == drv].LapTime.min()]\n",
    "    QualiDF = pd.DataFrame.from_dict(QualiTimes, orient = 'index', columns = ['Driver','LapTime'])\n",
    "    QualiDF = QualiDF.reset_index()\n",
    "    QualiDF >>= select(X.Driver, X.LapTime)\n",
    "    \n",
    "    #Merge weather and tire data with appropriate laptime data\n",
    "    QualiDF = pd.merge(QualiDF, QualiCompiledTiming, on = [\"LapTime\", \"Driver\"])\n",
    "    \n",
    "    #Removing variables regarded as unnecessary, adding Qualifying prefix to Data so merging stays clean\n",
    "    #Note: Qualifying and Practice are merged by driver, so QualifyingDriver is renamed back to driver\n",
    "    QualiDF >>= drop(X.Time, X.NumberOfLaps, X.NumberOfPitStops, X.IsPersonalBest, X.Stint, X.TotalLaps, X.New, X.WindDirection)\n",
    "    QualiDF = QualiDF.add_prefix('Qualifying') >> rename(Driver = X.QualifyingDriver)\n",
    "    QualiDF >>= drop(X.Qualifyingindex)\n",
    "    \n",
    "    return QualiDF\n",
    "\n",
    "def practiceScrape(grandPrix, raceDate, pracNum, pracDate):\n",
    "    \"\"\"\n",
    "    Input: Grand Prix, Grand Prix Date, Which Practice, Which Date\n",
    "    Output: Dataframe with each driver's timed lap matched with tire compound and weather conditions\n",
    "    \"\"\"\n",
    "    #Make Path to scrape practice data\n",
    "    FP = fastf1.api.make_path(grandPrix, raceDate, f'Practice {pracNum}', pracDate)\n",
    "    \n",
    "    #Scraping timing data, timing app data (for info on tire compund), and weather data\n",
    "    FPTiming = fastf1.api.timing_data(FP)[0]\n",
    "    FPTimingApp = fastf1.api.timing_app_data(FP)\n",
    "    FPWeatherDict = fastf1.api.weather_data(FP)\n",
    "    FPWeatherData = pd.DataFrame.from_dict(FPWeatherDict)\n",
    "    \n",
    "    #Remove entries with no laptimes, and round session time to nearest minute (for merging purposes)\n",
    "    FPTiming = FPTiming[FPTiming.LapTime.notnull()]\n",
    "    FPTimingApp >>= mutate(Time = X.Time.round('60s')) >> arrange(X.Driver, X.Time)\n",
    "    FPTimingApp = FPTimingApp.reset_index()\n",
    "    \n",
    "    #In timing app dataframe, tire compound is only noted when new set is put on\n",
    "    #Since dataframe is organized by driver and then time, we can replace empty entries with the previous tire compound\n",
    "    #Also, dataframe sometime doubles on driver-time combo, so removing the unnecessary ones\n",
    "    for index in range(len(FPTimingApp)):\n",
    "        if not FPTimingApp.loc[index,\"Compound\"]:\n",
    "            FPTimingApp.loc[index, \"Compound\"] = FPTimingApp.loc[index-1, \"Compound\"]\n",
    "        if not FPTimingApp.loc[index,\"New\"]:\n",
    "            FPTimingApp.loc[index,\"New\"] = False\n",
    "        if index == 0:\n",
    "            continue\n",
    "        if FPTimingApp.loc[index,\"Time\"] == FPTimingApp.loc[index-1,\"Time\"]:\n",
    "            if not FPTimingApp.loc[index,\"LapTime\"]:\n",
    "                FPTimingApp.loc[index,\"Driver\"] = np.nan\n",
    "            else: \n",
    "                FPTimingApp.loc[index-1,\"Driver\"] = np.nan                \n",
    "    FPTimingApp = FPTimingApp[FPTimingApp.Driver.notnull()]\n",
    "    \n",
    "    #Selecting relevant rows, and rounding FPtiming session time to nearest minute\n",
    "    FPTimingApp >>= select(X.Stint, X.Driver, X.TotalLaps, X.Compound, X.New, X.Time)\n",
    "    FPTiming = FPTiming >> mutate(Time = X.Time.round('60s')) >> arrange(X.Driver, X.Time) >> \\\n",
    "              drop(contains(\"Session\"), X.PitOutTime, X.PitInTime)\n",
    "    \n",
    "    #Merge Dataframes, keyed by time and driver, then dropping irrelevant columns\n",
    "    FPCompiledTiming = pd.merge(FPTiming,FPTimingApp, on=['Time', 'Driver'])\n",
    "    FPWeatherData >>= mutate(Time = X.Time.round('60s'))\n",
    "    FPCompiledTiming = pd.merge(FPCompiledTiming, FPWeatherData, on=['Time'])\n",
    "    FPCompiledTiming >>= arrange(X.Driver, X.Time) >> mutate(Practice = pracNum) >> drop(X.WindDirection, X.Stint, X.TotalLaps)\n",
    "    FPCompiledTiming = FPCompiledTiming.reset_index()\n",
    "    return FPCompiledTiming"
   ]
  },
  {
   "cell_type": "code",
   "execution_count": 29,
   "id": "ee5b9a51",
   "metadata": {},
   "outputs": [],
   "source": [
    "def weekendCompiler(grandPrix, raceDate, sprint = False):\n",
    "    \"\"\"\n",
    "    Input: Grand Prix with appropriate race date, and whether grand prix was a sprint weekend\n",
    "    Output: Dataframe with all timed practice laps, merged with info about best qualifying lap\n",
    "    \"\"\"\n",
    "    #Creating relevant dates for session calling purposes\n",
    "    raceDate = datetime.strptime(raceDate, \"%Y-%m-%d\")\n",
    "    friDate = str(raceDate - timedelta(days = 2))[:10]\n",
    "    satDate = str(raceDate - timedelta(days = 1))[:10]\n",
    "    raceDate = str(raceDate)[:10]\n",
    "    \n",
    "    #Collecting Practice Data\n",
    "    #Note: On sprint weekends only one practice is done before qualifying, so FP1 is the only relevant data\n",
    "    FP1CompiledTiming = practiceScrape(grandPrix, raceDate, 1, friDate)\n",
    "    if not sprint:\n",
    "        FP2CompiledTiming = practiceScrape(grandPrix, raceDate, 2, friDate)\n",
    "        FP3CompiledTiming = practiceScrape(grandPrix, raceDate, 3, satDate)\n",
    "    \n",
    "    #Collecting Quali Data:\n",
    "    #Note: On sprint weekends, qualifying is done on Friday, as opposed to usual Saturdays\n",
    "    if not sprint:\n",
    "        QualiDF = QualiScrape(grandPrix, raceDate, satDate)\n",
    "    else:\n",
    "        QualiDF = QualiScrape(grandPrix, raceDate, friDate)\n",
    "    \n",
    "    #Concatenating Practice Dataframes\n",
    "    if not sprint:\n",
    "        frames = [FP1CompiledTiming, FP2CompiledTiming, FP3CompiledTiming]\n",
    "        practiceCompiled = pd.concat(frames)\n",
    "    else:\n",
    "        practiceCompiled = FP1CompiledTiming\n",
    "    \n",
    "    #Merging Quali Data with compiled Practice data, such that each laptime has the appropriate quali data\n",
    "    practiceCompiled = practiceCompiled.reset_index()\n",
    "    practiceCompiled >>= drop(X.level_0)\n",
    "    practiceCompiled = pd.merge(practiceCompiled, QualiDF, on=['Driver']) >> mutate(Weekend = grandPrix)\n",
    "    \n",
    "    return practiceCompiled"
   ]
  },
  {
   "cell_type": "code",
   "execution_count": 30,
   "id": "73de0787",
   "metadata": {},
   "outputs": [
    {
     "name": "stderr",
     "output_type": "stream",
     "text": [
      "api            INFO \tUsing cached data for timing_data\n",
      "api            INFO \tUsing cached data for timing_app_data\n",
      "api            INFO \tUsing cached data for weather_data\n"
     ]
    },
    {
     "name": "stdout",
     "output_type": "stream",
     "text": [
      "Collecting Data for Bahrain Grand Prix\n"
     ]
    },
    {
     "name": "stderr",
     "output_type": "stream",
     "text": [
      "api            INFO \tUsing cached data for timing_data\n",
      "api            INFO \tUsing cached data for timing_app_data\n",
      "api            INFO \tUsing cached data for weather_data\n",
      "api            INFO \tUsing cached data for timing_data\n",
      "api            INFO \tUsing cached data for timing_app_data\n",
      "api            INFO \tUsing cached data for weather_data\n",
      "api            INFO \tUsing cached data for timing_data\n",
      "api            INFO \tUsing cached data for timing_app_data\n",
      "api            INFO \tUsing cached data for weather_data\n",
      "api            INFO \tUsing cached data for timing_data\n",
      "api            INFO \tUsing cached data for timing_app_data\n",
      "api            INFO \tUsing cached data for weather_data\n"
     ]
    },
    {
     "name": "stdout",
     "output_type": "stream",
     "text": [
      "Collecting Data for Saudi Arabian Grand Prix\n"
     ]
    },
    {
     "name": "stderr",
     "output_type": "stream",
     "text": [
      "api            INFO \tUsing cached data for timing_data\n",
      "api            INFO \tUsing cached data for timing_app_data\n",
      "api            INFO \tUsing cached data for weather_data\n",
      "api            INFO \tUsing cached data for timing_data\n",
      "api            INFO \tUsing cached data for timing_app_data\n",
      "api            INFO \tUsing cached data for weather_data\n",
      "api            INFO \tUsing cached data for timing_data\n",
      "api            INFO \tUsing cached data for timing_app_data\n",
      "api            INFO \tUsing cached data for weather_data\n",
      "api            INFO \tUsing cached data for timing_data\n",
      "api            INFO \tUsing cached data for timing_app_data\n",
      "api            INFO \tUsing cached data for weather_data\n"
     ]
    },
    {
     "name": "stdout",
     "output_type": "stream",
     "text": [
      "Collecting Data for Australian Grand Prix\n"
     ]
    },
    {
     "name": "stderr",
     "output_type": "stream",
     "text": [
      "api            INFO \tUsing cached data for timing_data\n",
      "api            INFO \tUsing cached data for timing_app_data\n",
      "api            INFO \tUsing cached data for weather_data\n",
      "api            INFO \tUsing cached data for timing_data\n",
      "api            INFO \tUsing cached data for timing_app_data\n",
      "api            INFO \tUsing cached data for weather_data\n",
      "api            INFO \tUsing cached data for timing_data\n",
      "api            INFO \tUsing cached data for timing_app_data\n",
      "api            INFO \tUsing cached data for weather_data\n",
      "api            INFO \tUsing cached data for timing_data\n",
      "api            INFO \tUsing cached data for timing_app_data\n",
      "api            INFO \tUsing cached data for weather_data\n"
     ]
    },
    {
     "name": "stdout",
     "output_type": "stream",
     "text": [
      "Collecting Data for Emilia Romagna Grand Prix\n"
     ]
    },
    {
     "name": "stderr",
     "output_type": "stream",
     "text": [
      "api            INFO \tUsing cached data for timing_data\n",
      "api            INFO \tUsing cached data for timing_app_data\n",
      "api            INFO \tUsing cached data for weather_data\n",
      "api            INFO \tUsing cached data for timing_data\n",
      "api            INFO \tUsing cached data for timing_app_data\n",
      "api            INFO \tUsing cached data for weather_data\n"
     ]
    },
    {
     "name": "stdout",
     "output_type": "stream",
     "text": [
      "Collecting Data for Miami Grand Prix\n"
     ]
    },
    {
     "name": "stderr",
     "output_type": "stream",
     "text": [
      "api            INFO \tUsing cached data for timing_data\n",
      "api            INFO \tUsing cached data for timing_app_data\n",
      "api            INFO \tUsing cached data for weather_data\n",
      "api            INFO \tUsing cached data for timing_data\n",
      "api            INFO \tUsing cached data for timing_app_data\n",
      "api            INFO \tUsing cached data for weather_data\n",
      "api            INFO \tUsing cached data for timing_data\n",
      "api            INFO \tUsing cached data for timing_app_data\n",
      "api            INFO \tUsing cached data for weather_data\n",
      "api            INFO \tUsing cached data for timing_data\n",
      "api            INFO \tUsing cached data for timing_app_data\n",
      "api            INFO \tUsing cached data for weather_data\n"
     ]
    },
    {
     "name": "stdout",
     "output_type": "stream",
     "text": [
      "Collecting Data for Spanish Grand Prix\n"
     ]
    },
    {
     "name": "stderr",
     "output_type": "stream",
     "text": [
      "api            INFO \tUsing cached data for timing_data\n",
      "api            INFO \tUsing cached data for timing_app_data\n",
      "api            INFO \tUsing cached data for weather_data\n",
      "api            INFO \tUsing cached data for timing_data\n",
      "api            INFO \tUsing cached data for timing_app_data\n",
      "api            INFO \tUsing cached data for weather_data\n",
      "api            INFO \tUsing cached data for timing_data\n",
      "api            INFO \tUsing cached data for timing_app_data\n",
      "api            INFO \tUsing cached data for weather_data\n",
      "api            INFO \tUsing cached data for timing_data\n",
      "api            INFO \tUsing cached data for timing_app_data\n",
      "api            INFO \tUsing cached data for weather_data\n"
     ]
    },
    {
     "name": "stdout",
     "output_type": "stream",
     "text": [
      "Collecting Data for Monaco Grand Prix\n"
     ]
    },
    {
     "name": "stderr",
     "output_type": "stream",
     "text": [
      "api            INFO \tUsing cached data for timing_data\n",
      "api            INFO \tUsing cached data for timing_app_data\n",
      "api            INFO \tUsing cached data for weather_data\n",
      "api            INFO \tUsing cached data for timing_data\n",
      "api            INFO \tUsing cached data for timing_app_data\n",
      "api            INFO \tUsing cached data for weather_data\n",
      "api            INFO \tUsing cached data for timing_data\n",
      "api            INFO \tUsing cached data for timing_app_data\n",
      "api            INFO \tUsing cached data for weather_data\n",
      "api            INFO \tUsing cached data for timing_data\n",
      "api            INFO \tUsing cached data for timing_app_data\n",
      "api            INFO \tUsing cached data for weather_data\n"
     ]
    },
    {
     "name": "stdout",
     "output_type": "stream",
     "text": [
      "Collecting Data for Azerbaijan Grand Prix\n"
     ]
    },
    {
     "name": "stderr",
     "output_type": "stream",
     "text": [
      "api            INFO \tUsing cached data for timing_data\n",
      "api            INFO \tUsing cached data for timing_app_data\n",
      "api            INFO \tUsing cached data for weather_data\n",
      "api            INFO \tUsing cached data for timing_data\n",
      "api            INFO \tUsing cached data for timing_app_data\n",
      "api            INFO \tUsing cached data for weather_data\n",
      "api            INFO \tUsing cached data for timing_data\n",
      "api            INFO \tUsing cached data for timing_app_data\n",
      "api            INFO \tUsing cached data for weather_data\n",
      "api            INFO \tUsing cached data for timing_data\n",
      "api            INFO \tUsing cached data for timing_app_data\n",
      "api            INFO \tUsing cached data for weather_data\n"
     ]
    },
    {
     "name": "stdout",
     "output_type": "stream",
     "text": [
      "Collecting Data for Canadian Grand Prix\n"
     ]
    },
    {
     "name": "stderr",
     "output_type": "stream",
     "text": [
      "api            INFO \tUsing cached data for timing_data\n",
      "api            INFO \tUsing cached data for timing_app_data\n",
      "api            INFO \tUsing cached data for weather_data\n",
      "api            INFO \tUsing cached data for timing_data\n",
      "api            INFO \tUsing cached data for timing_app_data\n",
      "api            INFO \tUsing cached data for weather_data\n",
      "api            INFO \tUsing cached data for timing_data\n",
      "api            INFO \tUsing cached data for timing_app_data\n",
      "api            INFO \tUsing cached data for weather_data\n",
      "api            INFO \tUsing cached data for timing_data\n",
      "api            INFO \tUsing cached data for timing_app_data\n",
      "api            INFO \tUsing cached data for weather_data\n"
     ]
    },
    {
     "name": "stdout",
     "output_type": "stream",
     "text": [
      "Collecting Data for British Grand Prix\n"
     ]
    },
    {
     "name": "stderr",
     "output_type": "stream",
     "text": [
      "api            INFO \tUsing cached data for timing_data\n",
      "api            INFO \tUsing cached data for timing_app_data\n",
      "api            INFO \tUsing cached data for weather_data\n",
      "api            INFO \tUsing cached data for timing_data\n",
      "api            INFO \tUsing cached data for timing_app_data\n",
      "api            INFO \tUsing cached data for weather_data\n",
      "api            INFO \tUsing cached data for timing_data\n",
      "api            INFO \tUsing cached data for timing_app_data\n",
      "api            INFO \tUsing cached data for weather_data\n",
      "api            INFO \tUsing cached data for timing_data\n",
      "api            INFO \tUsing cached data for timing_app_data\n",
      "api            INFO \tUsing cached data for weather_data\n"
     ]
    },
    {
     "name": "stdout",
     "output_type": "stream",
     "text": [
      "Collecting Data for Austrian Grand Prix\n"
     ]
    },
    {
     "name": "stderr",
     "output_type": "stream",
     "text": [
      "api            INFO \tUsing cached data for timing_data\n",
      "api            INFO \tUsing cached data for timing_app_data\n",
      "api            INFO \tUsing cached data for weather_data\n",
      "api            INFO \tUsing cached data for timing_data\n",
      "api            INFO \tUsing cached data for timing_app_data\n",
      "api            INFO \tUsing cached data for weather_data\n"
     ]
    },
    {
     "name": "stdout",
     "output_type": "stream",
     "text": [
      "Collecting Data for French Grand Prix\n"
     ]
    },
    {
     "name": "stderr",
     "output_type": "stream",
     "text": [
      "api            INFO \tUsing cached data for timing_data\n",
      "api            INFO \tUsing cached data for timing_app_data\n",
      "api            INFO \tUsing cached data for weather_data\n",
      "api            INFO \tUsing cached data for timing_data\n",
      "api            INFO \tUsing cached data for timing_app_data\n",
      "api            INFO \tUsing cached data for weather_data\n",
      "api            INFO \tUsing cached data for timing_data\n",
      "api            INFO \tUsing cached data for timing_app_data\n",
      "api            INFO \tUsing cached data for weather_data\n",
      "api            INFO \tUsing cached data for timing_data\n",
      "api            INFO \tUsing cached data for timing_app_data\n",
      "api            INFO \tUsing cached data for weather_data\n"
     ]
    },
    {
     "name": "stdout",
     "output_type": "stream",
     "text": [
      "Collecting Data for Hungarian Grand Prix\n"
     ]
    },
    {
     "name": "stderr",
     "output_type": "stream",
     "text": [
      "api            INFO \tUsing cached data for timing_data\n",
      "api            INFO \tUsing cached data for timing_app_data\n",
      "api            INFO \tUsing cached data for weather_data\n",
      "api            INFO \tUsing cached data for timing_data\n",
      "api            INFO \tUsing cached data for timing_app_data\n",
      "api            INFO \tUsing cached data for weather_data\n",
      "api            INFO \tUsing cached data for timing_data\n",
      "api            INFO \tUsing cached data for timing_app_data\n",
      "api            INFO \tUsing cached data for weather_data\n",
      "api            INFO \tUsing cached data for timing_data\n",
      "api            INFO \tUsing cached data for timing_app_data\n",
      "api            INFO \tUsing cached data for weather_data\n"
     ]
    },
    {
     "name": "stdout",
     "output_type": "stream",
     "text": [
      "Collecting Data for Belgian Grand Prix\n"
     ]
    },
    {
     "name": "stderr",
     "output_type": "stream",
     "text": [
      "api            INFO \tUsing cached data for timing_data\n",
      "api            INFO \tUsing cached data for timing_app_data\n",
      "api            INFO \tUsing cached data for weather_data\n",
      "api            INFO \tUsing cached data for timing_data\n",
      "api            INFO \tUsing cached data for timing_app_data\n",
      "api            INFO \tUsing cached data for weather_data\n",
      "api            INFO \tUsing cached data for timing_data\n",
      "api            INFO \tUsing cached data for timing_app_data\n",
      "api            INFO \tUsing cached data for weather_data\n",
      "api            INFO \tUsing cached data for timing_data\n",
      "api            INFO \tUsing cached data for timing_app_data\n",
      "api            INFO \tUsing cached data for weather_data\n"
     ]
    },
    {
     "name": "stdout",
     "output_type": "stream",
     "text": [
      "Collecting Data for Dutch Grand Prix\n"
     ]
    },
    {
     "name": "stderr",
     "output_type": "stream",
     "text": [
      "api            INFO \tUsing cached data for timing_data\n",
      "api            INFO \tUsing cached data for timing_app_data\n",
      "api            INFO \tUsing cached data for weather_data\n",
      "api            INFO \tUsing cached data for timing_data\n",
      "api            INFO \tUsing cached data for timing_app_data\n",
      "api            INFO \tUsing cached data for weather_data\n",
      "api            INFO \tUsing cached data for timing_data\n",
      "api            INFO \tUsing cached data for timing_app_data\n",
      "api            INFO \tUsing cached data for weather_data\n",
      "api            INFO \tUsing cached data for timing_data\n",
      "api            INFO \tUsing cached data for timing_app_data\n",
      "api            INFO \tUsing cached data for weather_data\n"
     ]
    },
    {
     "name": "stdout",
     "output_type": "stream",
     "text": [
      "Collecting Data for Italian Grand Prix\n"
     ]
    },
    {
     "name": "stderr",
     "output_type": "stream",
     "text": [
      "api            INFO \tUsing cached data for timing_data\n",
      "api            INFO \tUsing cached data for timing_app_data\n",
      "api            INFO \tUsing cached data for weather_data\n",
      "api            INFO \tUsing cached data for timing_data\n",
      "api            INFO \tUsing cached data for timing_app_data\n",
      "api            INFO \tUsing cached data for weather_data\n",
      "api            INFO \tUsing cached data for timing_data\n",
      "api            INFO \tUsing cached data for timing_app_data\n",
      "api            INFO \tUsing cached data for weather_data\n",
      "api            INFO \tUsing cached data for timing_data\n",
      "api            INFO \tUsing cached data for timing_app_data\n",
      "api            INFO \tUsing cached data for weather_data\n"
     ]
    },
    {
     "name": "stdout",
     "output_type": "stream",
     "text": [
      "Collecting Data for Singapore Grand Prix\n"
     ]
    },
    {
     "name": "stderr",
     "output_type": "stream",
     "text": [
      "api            INFO \tUsing cached data for timing_data\n",
      "api            INFO \tUsing cached data for timing_app_data\n",
      "api            INFO \tUsing cached data for weather_data\n",
      "api            INFO \tUsing cached data for timing_data\n",
      "api            INFO \tUsing cached data for timing_app_data\n",
      "api            INFO \tUsing cached data for weather_data\n",
      "api            INFO \tUsing cached data for timing_data\n",
      "api            INFO \tUsing cached data for timing_app_data\n",
      "api            INFO \tUsing cached data for weather_data\n",
      "api            INFO \tUsing cached data for timing_data\n",
      "api            INFO \tUsing cached data for timing_app_data\n",
      "api            INFO \tUsing cached data for weather_data\n"
     ]
    },
    {
     "name": "stdout",
     "output_type": "stream",
     "text": [
      "Collecting Data for Japanese Grand Prix\n"
     ]
    },
    {
     "name": "stderr",
     "output_type": "stream",
     "text": [
      "api            INFO \tUsing cached data for timing_data\n",
      "api            INFO \tUsing cached data for timing_app_data\n",
      "api            INFO \tUsing cached data for weather_data\n",
      "api            INFO \tUsing cached data for timing_data\n",
      "api            INFO \tUsing cached data for timing_app_data\n",
      "api            INFO \tUsing cached data for weather_data\n",
      "api            INFO \tUsing cached data for timing_data\n",
      "api            INFO \tUsing cached data for timing_app_data\n",
      "api            INFO \tUsing cached data for weather_data\n",
      "api            INFO \tUsing cached data for timing_data\n",
      "api            INFO \tUsing cached data for timing_app_data\n",
      "api            INFO \tUsing cached data for weather_data\n"
     ]
    },
    {
     "name": "stdout",
     "output_type": "stream",
     "text": [
      "Collecting Data for United States Grand Prix\n"
     ]
    },
    {
     "name": "stderr",
     "output_type": "stream",
     "text": [
      "api            INFO \tUsing cached data for timing_data\n",
      "api            INFO \tUsing cached data for timing_app_data\n",
      "api            INFO \tUsing cached data for weather_data\n",
      "api            INFO \tUsing cached data for timing_data\n",
      "api            INFO \tUsing cached data for timing_app_data\n",
      "api            INFO \tUsing cached data for weather_data\n",
      "api            INFO \tUsing cached data for timing_data\n",
      "api            INFO \tUsing cached data for timing_app_data\n",
      "api            INFO \tUsing cached data for weather_data\n",
      "api            INFO \tUsing cached data for timing_data\n",
      "api            INFO \tUsing cached data for timing_app_data\n",
      "api            INFO \tUsing cached data for weather_data\n"
     ]
    },
    {
     "name": "stdout",
     "output_type": "stream",
     "text": [
      "Collecting Data for Mexico City Grand Prix\n"
     ]
    },
    {
     "name": "stderr",
     "output_type": "stream",
     "text": [
      "api            INFO \tUsing cached data for timing_data\n",
      "api            INFO \tUsing cached data for timing_app_data\n",
      "api            INFO \tUsing cached data for weather_data\n",
      "api            INFO \tUsing cached data for timing_data\n",
      "api            INFO \tUsing cached data for timing_app_data\n",
      "api            INFO \tUsing cached data for weather_data\n",
      "api            INFO \tUsing cached data for timing_data\n",
      "api            INFO \tUsing cached data for timing_app_data\n",
      "api            INFO \tUsing cached data for weather_data\n",
      "api            INFO \tUsing cached data for timing_data\n",
      "api            INFO \tUsing cached data for timing_app_data\n",
      "api            INFO \tUsing cached data for weather_data\n"
     ]
    },
    {
     "name": "stdout",
     "output_type": "stream",
     "text": [
      "Collecting Data for São Paulo Grand Prix\n"
     ]
    },
    {
     "name": "stderr",
     "output_type": "stream",
     "text": [
      "api            INFO \tUsing cached data for timing_data\n",
      "api            INFO \tUsing cached data for timing_app_data\n",
      "api            INFO \tUsing cached data for weather_data\n"
     ]
    }
   ],
   "source": [
    "raceCalendar = {1:[\"Bahrain Grand Prix\", \"2022-03-20\"], 2:[\"Saudi Arabian Grand Prix\", \"2022-03-27\"], 3:[\"Australian Grand Prix\", \"2022-04-10\"],\\\n",
    "                4:[\"Emilia Romagna Grand Prix\", \"2022-04-24\"], 5:[\"Miami Grand Prix\", \"2022-05-08\"], 6:[\"Spanish Grand Prix\", \"2022-05-22\"], \\\n",
    "                7:[\"Monaco Grand Prix\", \"2022-05-29\"], 8:[\"Azerbaijan Grand Prix\", \"2022-06-12\"], 9:[\"Canadian Grand Prix\",  \"2022-06-19\"], \\\n",
    "                10:[\"British Grand Prix\", \"2022-07-03\"], 11:[\"Austrian Grand Prix\", \"2022-07-10\"], 12:[\"French Grand Prix\", \"2022-07-24\"], \\\n",
    "                13:[\"Hungarian Grand Prix\", \"2022-07-31\"], 14:[\"Belgian Grand Prix\", \"2022-08-28\"], 15:[\"Dutch Grand Prix\", \"2022-09-04\"], \\\n",
    "                16:[\"Italian Grand Prix\", \"2022-09-11\"], 17:[\"Singapore Grand Prix\", \"2022-10-02\"], 18:[\"Japanese Grand Prix\", \"2022-10-09\"], \\\n",
    "                19:[\"United States Grand Prix\", \"2022-10-23\"], 20:[\"Mexico City Grand Prix\", \"2022-10-30\"], 21:[\"São Paulo Grand Prix\", \"2022-11-13\"]}\n",
    "dfList = []\n",
    "for key in raceCalendar:\n",
    "    \n",
    "    print(f\"Collecting Data for {raceCalendar[key][0]}\")\n",
    "    #Imola, Austria, and Brazil are sprint weekends, so they have a special case where sprint = true\n",
    "    if key not in [4,11,21]:\n",
    "        dfList.append(weekendCompiler(raceCalendar[key][0], raceCalendar[key][1]))\n",
    "    else:\n",
    "        dfList.append(weekendCompiler(raceCalendar[key][0], raceCalendar[key][1], sprint = True))\n",
    "\n",
    "masterList = pd.concat(dfList)\n",
    "masterList >>= drop(X.Time)"
   ]
  },
  {
   "cell_type": "markdown",
   "id": "d4cb0571",
   "metadata": {},
   "source": [
    "Clean Data For Neural Network"
   ]
  },
  {
   "cell_type": "code",
   "execution_count": 5,
   "id": "b63740b1",
   "metadata": {},
   "outputs": [],
   "source": [
    "\n",
    "nn_copy = masterList.copy()\n",
    "nn_copy = pd.get_dummies(nn_copy, columns = ['Weekend', 'Driver', 'Compound', 'QualifyingCompound'])\n",
    "\n",
    "#Convert to Seconds \n",
    "nn_copy['LapTime'] = (pd.to_numeric(nn_copy['LapTime'], errors = 'coerce')) / 1000000000\n",
    "nn_copy['Sector1Time'] = (pd.to_numeric(nn_copy['Sector1Time'], errors = 'coerce')) / 1000000000\n",
    "nn_copy['Sector2Time'] = (pd.to_numeric(nn_copy['Sector2Time'], errors = 'coerce')) / 1000000000\n",
    "nn_copy['Sector3Time'] = (pd.to_numeric(nn_copy['Sector3Time'], errors = 'coerce')) / 1000000000\n",
    "nn_copy['QualifyingLapTime'] = (pd.to_numeric(nn_copy['QualifyingLapTime'], errors = 'coerce')) / 1000000000\n",
    "\n",
    "#Adjust Boolean Data\n",
    "nn_copy['New'] = pd.to_numeric(nn_copy['New'], errors = 'coerce')\n",
    "\n",
    "#Remove Bad Data\n",
    "del nn_copy['index']\n",
    "del nn_copy['QualifyingSector1Time']\n",
    "del nn_copy['QualifyingSector2Time']\n",
    "del nn_copy['QualifyingSector3Time']\n",
    "del nn_copy['QualifyingSpeedI1']\n",
    "del nn_copy['QualifyingSpeedI2']\n",
    "del nn_copy['QualifyingSpeedFL']\n",
    "del nn_copy['QualifyingSpeedST']\n",
    "nn_copy = nn_copy.dropna()"
   ]
  },
  {
   "cell_type": "code",
   "execution_count": 6,
   "id": "a52f51a4",
   "metadata": {},
   "outputs": [],
   "source": [
    "#Set training variables(X) and prediction variables (Y)\n",
    "x = nn_copy >> drop(X.QualifyingLapTime)\n",
    "             \n",
    "y = nn_copy['QualifyingLapTime']\n",
    "\n",
    "#Normalize Training Data\n",
    "\n",
    "x_scaler = preprocessing.StandardScaler().fit(x)\n",
    "x_norm = x_scaler.transform(x)\n",
    "\n",
    "#Split Data Into Test and Training Sets\n",
    "x_train, x_test, y_train, y_test = train_test_split(x_norm, y, test_size = 0.2)\n",
    "\n",
    "x_train = np.asarray(x_train).astype(float)\n",
    "y_train = np.asarray(y_train).astype(float)\n",
    "x_test = np.asarray(x_test).astype(float)\n",
    "y_test = np.asarray(y_test).astype(float)\n",
    "\n",
    "#Split Test Data Into Validation and Test Sets\n",
    "x_validation, x_test, y_validation, y_test = train_test_split(x_test, y_test, test_size = 0.5)"
   ]
  },
  {
   "cell_type": "markdown",
   "id": "1a1c1bca",
   "metadata": {},
   "source": [
    "\"Standard\" Neural Network Following General Guidelines "
   ]
  },
  {
   "cell_type": "code",
   "execution_count": null,
   "id": "b3188566",
   "metadata": {},
   "outputs": [],
   "source": [
    "#One layer is generally enough for simple problems like this (As opposed to something like digit recognition)\n",
    "#Hidden layer size is generally between the input size (number of x variables) and the output size (number of y variables)\n",
    "model = tf.keras.models.Sequential([\n",
    "    tf.keras.layers.Dense(16, activation = 'relu'),\n",
    "])\n",
    "\n",
    "#Adam is the recommended default optimizer\n",
    "#Mean squared error loss function as seen in class\n",
    "model.compile(optimizer = 'adam', loss = tf.keras.losses.MSE, metrics = [tf.keras.metrics.MeanSquaredError(),\n",
    "                                                                         tf.keras.metrics.MeanAbsoluteError()])\n",
    "#Start Batch Size Small (Powers of 2 for efficient GPU usage)\n",
    "#Epochs rule of thumb is to start with triple the amount of columns\n",
    "#Verbose determines how it prints the training progress\n",
    "model.fit(x_train, y_train, batch_size = 32, epochs = 100, verbose = 2)\n",
    "\n",
    "#Evaluate Model \n",
    "model.evaluate(x_validation, y_validation, verbose = 2)"
   ]
  },
  {
   "cell_type": "markdown",
   "id": "cd464f54",
   "metadata": {},
   "source": [
    "What If We Adjust The Network Architecture?"
   ]
  },
  {
   "cell_type": "code",
   "execution_count": null,
   "id": "f2dd5e99",
   "metadata": {},
   "outputs": [],
   "source": [
    "#This one is good\n",
    "model = tf.keras.models.Sequential([\n",
    "    tf.keras.layers.Dense(16, activation = 'relu'),\n",
    "    tf.keras.layers.Dense(16, activation = 'relu'),\n",
    "])\n",
    "model.compile(optimizer = 'adam', loss = tf.keras.losses.MSE, metrics = [tf.keras.metrics.MeanSquaredError(),\n",
    "                                                                         tf.keras.metrics.MeanAbsoluteError()])\n",
    "model.fit(x_train, y_train, batch_size = 32, epochs = 100, verbose = 2)      \n",
    "model.evaluate(x_validation, y_validation, verbose = 2)                                                                   "
   ]
  },
  {
   "cell_type": "code",
   "execution_count": null,
   "id": "5fdb0c7a",
   "metadata": {},
   "outputs": [],
   "source": [
    "#This one is bad\n",
    "model = tf.keras.models.Sequential([\n",
    "    tf.keras.layers.Dense(16, activation = 'relu'),\n",
    "    tf.keras.layers.Dense(16, activation = 'relu'),\n",
    "    tf.keras.layers.Dense(16, activation = 'relu'),\n",
    "])\n",
    "model.compile(optimizer = 'adam', loss = tf.keras.losses.MSE, metrics = [tf.keras.metrics.MeanSquaredError(),\n",
    "                                                                         tf.keras.metrics.MeanAbsoluteError()])\n",
    "model.fit(x_train, y_train, batch_size = 32, epochs = 100, verbose = 2)      \n",
    "model.evaluate(x_validation, y_validation, verbose = 2)"
   ]
  },
  {
   "cell_type": "code",
   "execution_count": null,
   "id": "07a3d37a",
   "metadata": {},
   "outputs": [],
   "source": [
    "#This one is bad\n",
    "model = tf.keras.models.Sequential([\n",
    "    tf.keras.layers.Dense(32, activation = 'relu'),\n",
    "])\n",
    "model.compile(optimizer = 'adam', loss = tf.keras.losses.MSE, metrics = [tf.keras.metrics.MeanSquaredError(),\n",
    "                                                                         tf.keras.metrics.MeanAbsoluteError()])\n",
    "model.fit(x_train, y_train, batch_size = 32, epochs = 100, verbose = 2)      \n",
    "model.evaluate(x_validation, y_validation, verbose = 2)   "
   ]
  },
  {
   "cell_type": "code",
   "execution_count": null,
   "id": "14f33a08",
   "metadata": {},
   "outputs": [],
   "source": [
    "#This one is good\n",
    "model = tf.keras.models.Sequential([\n",
    "    tf.keras.layers.Dense(32, activation = 'relu'),\n",
    "    tf.keras.layers.Dense(32, activation = 'relu'),\n",
    "])\n",
    "model.compile(optimizer = 'adam', loss = tf.keras.losses.MSE, metrics = [tf.keras.metrics.MeanSquaredError(),\n",
    "                                                                         tf.keras.metrics.MeanAbsoluteError()])\n",
    "model.fit(x_train, y_train, batch_size = 32, epochs = 100, verbose = 2)      \n",
    "model.evaluate(x_validation, y_validation, verbose = 2)   "
   ]
  },
  {
   "cell_type": "code",
   "execution_count": null,
   "id": "b4ba7b52",
   "metadata": {},
   "outputs": [],
   "source": [
    "#This one is bad\n",
    "model = tf.keras.models.Sequential([\n",
    "    tf.keras.layers.Dense(32, activation = 'relu'),\n",
    "    tf.keras.layers.Dense(32, activation = 'relu'),\n",
    "    tf.keras.layers.Dense(32, activation = 'relu'),\n",
    "])\n",
    "model.compile(optimizer = 'adam', loss = tf.keras.losses.MSE, metrics = [tf.keras.metrics.MeanSquaredError(),\n",
    "                                                                         tf.keras.metrics.MeanAbsoluteError()])\n",
    "model.fit(x_train, y_train, batch_size = 32, epochs = 100, verbose = 2)      \n",
    "model.evaluate(x_validation, y_validation, verbose = 2)   "
   ]
  },
  {
   "cell_type": "code",
   "execution_count": null,
   "id": "6e230a15",
   "metadata": {},
   "outputs": [],
   "source": [
    "#This one is best\n",
    "model = tf.keras.models.Sequential([\n",
    "    tf.keras.layers.Dense(32, activation = 'relu'),\n",
    "    tf.keras.layers.Dense(16, activation = 'relu'),\n",
    "])\n",
    "model.compile(optimizer = 'adam', loss = tf.keras.losses.MSE, metrics = [tf.keras.metrics.MeanSquaredError(),\n",
    "                                                                         tf.keras.metrics.MeanAbsoluteError()])\n",
    "model.fit(x_train, y_train, batch_size = 32, epochs = 100, verbose = 2)      \n",
    "model.evaluate(x_validation, y_validation, verbose = 2)   "
   ]
  },
  {
   "cell_type": "code",
   "execution_count": null,
   "id": "1e59f373",
   "metadata": {},
   "outputs": [],
   "source": [
    "#Evaluate best model with test data\n",
    "model.evaluate(x_test, y_test)"
   ]
  },
  {
   "cell_type": "markdown",
   "id": "a7496c07",
   "metadata": {},
   "source": [
    "What if we change the activation function? (They are all worse than relu)"
   ]
  },
  {
   "cell_type": "code",
   "execution_count": null,
   "id": "cf48f507",
   "metadata": {},
   "outputs": [],
   "source": [
    "model = tf.keras.models.Sequential([\n",
    "    tf.keras.layers.Dense(32, activation = 'linear'),\n",
    "    tf.keras.layers.Dense(16, activation = 'linear'),\n",
    "])\n",
    "model.compile(optimizer = 'adam', loss = tf.keras.losses.MSE, metrics = [tf.keras.metrics.MeanSquaredError(),\n",
    "                                                                         tf.keras.metrics.MeanAbsoluteError()])\n",
    "model.fit(x_train, y_train, batch_size = 32, epochs = 100, verbose = 2)      \n",
    "model.evaluate(x_validation, y_validation, verbose = 2)  "
   ]
  },
  {
   "cell_type": "code",
   "execution_count": null,
   "id": "99571dcc",
   "metadata": {},
   "outputs": [],
   "source": [
    "model = tf.keras.models.Sequential([\n",
    "    tf.keras.layers.Dense(32, activation = 'sigmoid'),\n",
    "    tf.keras.layers.Dense(16, activation = 'sigmoid'),\n",
    "])\n",
    "model.compile(optimizer = 'adam', loss = tf.keras.losses.MSE, metrics = [tf.keras.metrics.MeanSquaredError(),\n",
    "                                                                         tf.keras.metrics.MeanAbsoluteError()])\n",
    "model.fit(x_train, y_train, batch_size = 32, epochs = 100, verbose = 2)      \n",
    "model.evaluate(x_validation, y_validation, verbose = 2)  "
   ]
  },
  {
   "cell_type": "code",
   "execution_count": null,
   "id": "88acde6a",
   "metadata": {},
   "outputs": [],
   "source": [
    "model = tf.keras.models.Sequential([\n",
    "    tf.keras.layers.Dense(32, activation = 'tanh'),\n",
    "    tf.keras.layers.Dense(16, activation = 'tanh'),\n",
    "])\n",
    "model.compile(optimizer = 'adam', loss = tf.keras.losses.MSE, metrics = [tf.keras.metrics.MeanSquaredError(),\n",
    "                                                                         tf.keras.metrics.MeanAbsoluteError()])\n",
    "model.fit(x_train, y_train, batch_size = 32, epochs = 100, verbose = 2)      \n",
    "model.evaluate(x_validation, y_validation, verbose = 2)  "
   ]
  },
  {
   "cell_type": "markdown",
   "id": "76d7dcbf",
   "metadata": {},
   "source": [
    "What if we adjust batch size?"
   ]
  },
  {
   "cell_type": "code",
   "execution_count": null,
   "id": "74418d81",
   "metadata": {},
   "outputs": [],
   "source": [
    "#This one is bad\n",
    "model = tf.keras.models.Sequential([\n",
    "    tf.keras.layers.Dense(32, activation = 'relu'),\n",
    "    tf.keras.layers.Dense(16, activation = 'relu'),\n",
    "])\n",
    "model.compile(optimizer = 'adam', loss = tf.keras.losses.MSE, metrics = [tf.keras.metrics.MeanSquaredError(),\n",
    "                                                                         tf.keras.metrics.MeanAbsoluteError()])\n",
    "model.fit(x_train, y_train, batch_size = 64, epochs = 100, verbose = 0)\n",
    "model.evaluate(x_validation, y_validation, verbose = 2)"
   ]
  },
  {
   "cell_type": "code",
   "execution_count": null,
   "id": "7d007e1d",
   "metadata": {},
   "outputs": [],
   "source": [
    "#This one is superior\n",
    "model = tf.keras.models.Sequential([\n",
    "    tf.keras.layers.Dense(32, activation = 'relu'),\n",
    "    tf.keras.layers.Dense(16, activation = 'relu'),\n",
    "])\n",
    "model.compile(optimizer = 'adam', loss = tf.keras.losses.MSE, metrics = [tf.keras.metrics.MeanSquaredError(),\n",
    "                                                                         tf.keras.metrics.MeanAbsoluteError()])\n",
    "model.fit(x_train, y_train, batch_size = 8, epochs = 100, verbose = 0)\n",
    "model.evaluate(x_validation, y_validation, verbose = 2)"
   ]
  },
  {
   "cell_type": "code",
   "execution_count": null,
   "id": "050cbf6a",
   "metadata": {},
   "outputs": [],
   "source": [
    "#This one is even more superior (Not going smaller because run time is very long)\n",
    "model = tf.keras.models.Sequential([\n",
    "    tf.keras.layers.Dense(32, activation = 'relu'),\n",
    "    tf.keras.layers.Dense(16, activation = 'relu'),\n",
    "])\n",
    "model.compile(optimizer = 'adam', loss = tf.keras.losses.MSE, metrics = [tf.keras.metrics.MeanSquaredError(),\n",
    "                                                                         tf.keras.metrics.MeanAbsoluteError()])\n",
    "model.fit(x_train, y_train, batch_size = 4, epochs = 100, verbose = 0)\n",
    "model.evaluate(x_validation, y_validation, verbose = 2)"
   ]
  },
  {
   "cell_type": "markdown",
   "id": "3c52939d",
   "metadata": {},
   "source": [
    "What if we add more epochs?"
   ]
  },
  {
   "cell_type": "code",
   "execution_count": 31,
   "id": "8183d464",
   "metadata": {},
   "outputs": [
    {
     "name": "stdout",
     "output_type": "stream",
     "text": [
      "Epoch 1/1000\n",
      "347/347 - 1s - loss: 5923.2236 - mean_squared_error: 5923.2236 - mean_absolute_error: 75.5194 - 1s/epoch - 4ms/step\n",
      "Epoch 2/1000\n",
      "347/347 - 1s - loss: 1052.0355 - mean_squared_error: 1052.0355 - mean_absolute_error: 27.6431 - 806ms/epoch - 2ms/step\n",
      "Epoch 3/1000\n",
      "347/347 - 1s - loss: 103.4032 - mean_squared_error: 103.4032 - mean_absolute_error: 7.8529 - 800ms/epoch - 2ms/step\n",
      "Epoch 4/1000\n",
      "347/347 - 1s - loss: 54.3754 - mean_squared_error: 54.3754 - mean_absolute_error: 5.4817 - 906ms/epoch - 3ms/step\n",
      "Epoch 5/1000\n",
      "347/347 - 1s - loss: 39.6448 - mean_squared_error: 39.6448 - mean_absolute_error: 4.6462 - 842ms/epoch - 2ms/step\n",
      "Epoch 6/1000\n",
      "347/347 - 1s - loss: 30.5396 - mean_squared_error: 30.5396 - mean_absolute_error: 4.0673 - 867ms/epoch - 2ms/step\n",
      "Epoch 7/1000\n",
      "347/347 - 1s - loss: 24.2622 - mean_squared_error: 24.2622 - mean_absolute_error: 3.6081 - 826ms/epoch - 2ms/step\n",
      "Epoch 8/1000\n",
      "347/347 - 1s - loss: 19.7891 - mean_squared_error: 19.7891 - mean_absolute_error: 3.2251 - 722ms/epoch - 2ms/step\n",
      "Epoch 9/1000\n",
      "347/347 - 1s - loss: 16.4658 - mean_squared_error: 16.4658 - mean_absolute_error: 2.9160 - 718ms/epoch - 2ms/step\n",
      "Epoch 10/1000\n",
      "347/347 - 1s - loss: 13.9094 - mean_squared_error: 13.9094 - mean_absolute_error: 2.6469 - 720ms/epoch - 2ms/step\n",
      "Epoch 11/1000\n",
      "347/347 - 1s - loss: 11.8737 - mean_squared_error: 11.8737 - mean_absolute_error: 2.4186 - 737ms/epoch - 2ms/step\n",
      "Epoch 12/1000\n",
      "347/347 - 1s - loss: 10.2482 - mean_squared_error: 10.2482 - mean_absolute_error: 2.2210 - 721ms/epoch - 2ms/step\n",
      "Epoch 13/1000\n",
      "347/347 - 1s - loss: 8.9582 - mean_squared_error: 8.9582 - mean_absolute_error: 2.0356 - 766ms/epoch - 2ms/step\n",
      "Epoch 14/1000\n",
      "347/347 - 1s - loss: 7.9013 - mean_squared_error: 7.9013 - mean_absolute_error: 1.8873 - 955ms/epoch - 3ms/step\n",
      "Epoch 15/1000\n",
      "347/347 - 1s - loss: 6.9987 - mean_squared_error: 6.9987 - mean_absolute_error: 1.7498 - 980ms/epoch - 3ms/step\n",
      "Epoch 16/1000\n",
      "347/347 - 1s - loss: 6.2816 - mean_squared_error: 6.2816 - mean_absolute_error: 1.6298 - 837ms/epoch - 2ms/step\n",
      "Epoch 17/1000\n",
      "347/347 - 1s - loss: 5.6573 - mean_squared_error: 5.6573 - mean_absolute_error: 1.5216 - 832ms/epoch - 2ms/step\n",
      "Epoch 18/1000\n",
      "347/347 - 1s - loss: 5.1385 - mean_squared_error: 5.1385 - mean_absolute_error: 1.4182 - 1s/epoch - 3ms/step\n",
      "Epoch 19/1000\n",
      "347/347 - 1s - loss: 4.6773 - mean_squared_error: 4.6773 - mean_absolute_error: 1.3324 - 920ms/epoch - 3ms/step\n",
      "Epoch 20/1000\n",
      "347/347 - 1s - loss: 4.3202 - mean_squared_error: 4.3202 - mean_absolute_error: 1.2527 - 1s/epoch - 3ms/step\n",
      "Epoch 21/1000\n",
      "347/347 - 1s - loss: 3.9508 - mean_squared_error: 3.9508 - mean_absolute_error: 1.1879 - 1s/epoch - 3ms/step\n",
      "Epoch 22/1000\n",
      "347/347 - 1s - loss: 3.6797 - mean_squared_error: 3.6797 - mean_absolute_error: 1.1187 - 1s/epoch - 3ms/step\n",
      "Epoch 23/1000\n",
      "347/347 - 1s - loss: 3.4207 - mean_squared_error: 3.4207 - mean_absolute_error: 1.0560 - 1s/epoch - 3ms/step\n",
      "Epoch 24/1000\n",
      "347/347 - 1s - loss: 3.2056 - mean_squared_error: 3.2056 - mean_absolute_error: 1.0115 - 818ms/epoch - 2ms/step\n",
      "Epoch 25/1000\n",
      "347/347 - 1s - loss: 3.0087 - mean_squared_error: 3.0087 - mean_absolute_error: 0.9535 - 928ms/epoch - 3ms/step\n",
      "Epoch 26/1000\n",
      "347/347 - 1s - loss: 2.8349 - mean_squared_error: 2.8349 - mean_absolute_error: 0.9136 - 927ms/epoch - 3ms/step\n",
      "Epoch 27/1000\n",
      "347/347 - 1s - loss: 2.6740 - mean_squared_error: 2.6740 - mean_absolute_error: 0.8733 - 920ms/epoch - 3ms/step\n",
      "Epoch 28/1000\n",
      "347/347 - 1s - loss: 2.5316 - mean_squared_error: 2.5316 - mean_absolute_error: 0.8281 - 1s/epoch - 3ms/step\n",
      "Epoch 29/1000\n",
      "347/347 - 1s - loss: 2.4044 - mean_squared_error: 2.4044 - mean_absolute_error: 0.7998 - 816ms/epoch - 2ms/step\n",
      "Epoch 30/1000\n",
      "347/347 - 1s - loss: 2.2840 - mean_squared_error: 2.2840 - mean_absolute_error: 0.7681 - 825ms/epoch - 2ms/step\n",
      "Epoch 31/1000\n",
      "347/347 - 1s - loss: 2.1302 - mean_squared_error: 2.1302 - mean_absolute_error: 0.7185 - 904ms/epoch - 3ms/step\n",
      "Epoch 32/1000\n",
      "347/347 - 1s - loss: 2.0643 - mean_squared_error: 2.0643 - mean_absolute_error: 0.7008 - 784ms/epoch - 2ms/step\n",
      "Epoch 33/1000\n",
      "347/347 - 1s - loss: 1.9541 - mean_squared_error: 1.9541 - mean_absolute_error: 0.6610 - 907ms/epoch - 3ms/step\n",
      "Epoch 34/1000\n",
      "347/347 - 1s - loss: 1.8664 - mean_squared_error: 1.8664 - mean_absolute_error: 0.6460 - 896ms/epoch - 3ms/step\n",
      "Epoch 35/1000\n",
      "347/347 - 1s - loss: 1.7699 - mean_squared_error: 1.7699 - mean_absolute_error: 0.6137 - 945ms/epoch - 3ms/step\n",
      "Epoch 36/1000\n",
      "347/347 - 1s - loss: 1.6992 - mean_squared_error: 1.6992 - mean_absolute_error: 0.5770 - 778ms/epoch - 2ms/step\n",
      "Epoch 37/1000\n",
      "347/347 - 1s - loss: 1.6271 - mean_squared_error: 1.6271 - mean_absolute_error: 0.5600 - 816ms/epoch - 2ms/step\n",
      "Epoch 38/1000\n",
      "347/347 - 1s - loss: 1.5571 - mean_squared_error: 1.5571 - mean_absolute_error: 0.5472 - 834ms/epoch - 2ms/step\n",
      "Epoch 39/1000\n",
      "347/347 - 1s - loss: 1.4864 - mean_squared_error: 1.4864 - mean_absolute_error: 0.5112 - 825ms/epoch - 2ms/step\n",
      "Epoch 40/1000\n",
      "347/347 - 1s - loss: 1.4453 - mean_squared_error: 1.4453 - mean_absolute_error: 0.4862 - 940ms/epoch - 3ms/step\n",
      "Epoch 41/1000\n",
      "347/347 - 1s - loss: 1.3696 - mean_squared_error: 1.3696 - mean_absolute_error: 0.4744 - 937ms/epoch - 3ms/step\n",
      "Epoch 42/1000\n",
      "347/347 - 1s - loss: 1.2932 - mean_squared_error: 1.2932 - mean_absolute_error: 0.4495 - 824ms/epoch - 2ms/step\n",
      "Epoch 43/1000\n",
      "347/347 - 1s - loss: 1.2203 - mean_squared_error: 1.2203 - mean_absolute_error: 0.4310 - 736ms/epoch - 2ms/step\n",
      "Epoch 44/1000\n",
      "347/347 - 1s - loss: 1.1627 - mean_squared_error: 1.1627 - mean_absolute_error: 0.4125 - 808ms/epoch - 2ms/step\n",
      "Epoch 45/1000\n",
      "347/347 - 1s - loss: 1.1044 - mean_squared_error: 1.1044 - mean_absolute_error: 0.3989 - 884ms/epoch - 3ms/step\n",
      "Epoch 46/1000\n",
      "347/347 - 1s - loss: 1.0536 - mean_squared_error: 1.0536 - mean_absolute_error: 0.3765 - 880ms/epoch - 3ms/step\n",
      "Epoch 47/1000\n",
      "347/347 - 1s - loss: 1.0173 - mean_squared_error: 1.0173 - mean_absolute_error: 0.3663 - 880ms/epoch - 3ms/step\n",
      "Epoch 48/1000\n",
      "347/347 - 1s - loss: 0.9805 - mean_squared_error: 0.9805 - mean_absolute_error: 0.3536 - 921ms/epoch - 3ms/step\n",
      "Epoch 49/1000\n",
      "347/347 - 1s - loss: 0.9513 - mean_squared_error: 0.9513 - mean_absolute_error: 0.3452 - 896ms/epoch - 3ms/step\n",
      "Epoch 50/1000\n",
      "347/347 - 1s - loss: 0.9069 - mean_squared_error: 0.9069 - mean_absolute_error: 0.3285 - 785ms/epoch - 2ms/step\n",
      "Epoch 51/1000\n",
      "347/347 - 1s - loss: 0.8798 - mean_squared_error: 0.8798 - mean_absolute_error: 0.3222 - 731ms/epoch - 2ms/step\n",
      "Epoch 52/1000\n",
      "347/347 - 1s - loss: 0.8425 - mean_squared_error: 0.8425 - mean_absolute_error: 0.3044 - 778ms/epoch - 2ms/step\n",
      "Epoch 53/1000\n",
      "347/347 - 1s - loss: 0.8225 - mean_squared_error: 0.8225 - mean_absolute_error: 0.3076 - 945ms/epoch - 3ms/step\n",
      "Epoch 54/1000\n",
      "347/347 - 1s - loss: 0.8060 - mean_squared_error: 0.8060 - mean_absolute_error: 0.2983 - 880ms/epoch - 3ms/step\n",
      "Epoch 55/1000\n",
      "347/347 - 1s - loss: 0.7761 - mean_squared_error: 0.7761 - mean_absolute_error: 0.2785 - 863ms/epoch - 2ms/step\n",
      "Epoch 56/1000\n",
      "347/347 - 1s - loss: 0.7634 - mean_squared_error: 0.7634 - mean_absolute_error: 0.2773 - 728ms/epoch - 2ms/step\n",
      "Epoch 57/1000\n",
      "347/347 - 1s - loss: 0.7424 - mean_squared_error: 0.7424 - mean_absolute_error: 0.2668 - 873ms/epoch - 3ms/step\n",
      "Epoch 58/1000\n",
      "347/347 - 1s - loss: 0.7317 - mean_squared_error: 0.7317 - mean_absolute_error: 0.2637 - 853ms/epoch - 2ms/step\n",
      "Epoch 59/1000\n",
      "347/347 - 1s - loss: 0.7094 - mean_squared_error: 0.7094 - mean_absolute_error: 0.2516 - 841ms/epoch - 2ms/step\n",
      "Epoch 60/1000\n",
      "347/347 - 1s - loss: 0.7010 - mean_squared_error: 0.7010 - mean_absolute_error: 0.2452 - 784ms/epoch - 2ms/step\n",
      "Epoch 61/1000\n",
      "347/347 - 1s - loss: 0.6973 - mean_squared_error: 0.6973 - mean_absolute_error: 0.2451 - 729ms/epoch - 2ms/step\n",
      "Epoch 62/1000\n",
      "347/347 - 1s - loss: 0.6859 - mean_squared_error: 0.6859 - mean_absolute_error: 0.2400 - 729ms/epoch - 2ms/step\n",
      "Epoch 63/1000\n",
      "347/347 - 1s - loss: 0.6689 - mean_squared_error: 0.6689 - mean_absolute_error: 0.2285 - 909ms/epoch - 3ms/step\n",
      "Epoch 64/1000\n",
      "347/347 - 1s - loss: 0.6627 - mean_squared_error: 0.6627 - mean_absolute_error: 0.2219 - 817ms/epoch - 2ms/step\n",
      "Epoch 65/1000\n",
      "347/347 - 1s - loss: 0.6557 - mean_squared_error: 0.6557 - mean_absolute_error: 0.2219 - 774ms/epoch - 2ms/step\n"
     ]
    },
    {
     "name": "stdout",
     "output_type": "stream",
     "text": [
      "Epoch 66/1000\n",
      "347/347 - 1s - loss: 0.6496 - mean_squared_error: 0.6496 - mean_absolute_error: 0.2145 - 849ms/epoch - 2ms/step\n",
      "Epoch 67/1000\n",
      "347/347 - 1s - loss: 0.6417 - mean_squared_error: 0.6417 - mean_absolute_error: 0.2077 - 793ms/epoch - 2ms/step\n",
      "Epoch 68/1000\n",
      "347/347 - 1s - loss: 0.6400 - mean_squared_error: 0.6400 - mean_absolute_error: 0.2089 - 979ms/epoch - 3ms/step\n",
      "Epoch 69/1000\n",
      "347/347 - 1s - loss: 0.6307 - mean_squared_error: 0.6307 - mean_absolute_error: 0.1972 - 858ms/epoch - 2ms/step\n",
      "Epoch 70/1000\n",
      "347/347 - 1s - loss: 0.6266 - mean_squared_error: 0.6266 - mean_absolute_error: 0.1927 - 808ms/epoch - 2ms/step\n",
      "Epoch 71/1000\n",
      "347/347 - 1s - loss: 0.6231 - mean_squared_error: 0.6231 - mean_absolute_error: 0.1890 - 777ms/epoch - 2ms/step\n",
      "Epoch 72/1000\n",
      "347/347 - 1s - loss: 0.6217 - mean_squared_error: 0.6217 - mean_absolute_error: 0.1901 - 829ms/epoch - 2ms/step\n",
      "Epoch 73/1000\n",
      "347/347 - 1s - loss: 0.6180 - mean_squared_error: 0.6180 - mean_absolute_error: 0.1824 - 781ms/epoch - 2ms/step\n",
      "Epoch 74/1000\n",
      "347/347 - 1s - loss: 0.6150 - mean_squared_error: 0.6150 - mean_absolute_error: 0.1812 - 800ms/epoch - 2ms/step\n",
      "Epoch 75/1000\n",
      "347/347 - 1s - loss: 0.6109 - mean_squared_error: 0.6109 - mean_absolute_error: 0.1765 - 761ms/epoch - 2ms/step\n",
      "Epoch 76/1000\n",
      "347/347 - 1s - loss: 0.6140 - mean_squared_error: 0.6140 - mean_absolute_error: 0.1786 - 835ms/epoch - 2ms/step\n",
      "Epoch 77/1000\n",
      "347/347 - 1s - loss: 0.6087 - mean_squared_error: 0.6087 - mean_absolute_error: 0.1713 - 815ms/epoch - 2ms/step\n",
      "Epoch 78/1000\n",
      "347/347 - 1s - loss: 0.6055 - mean_squared_error: 0.6055 - mean_absolute_error: 0.1685 - 729ms/epoch - 2ms/step\n",
      "Epoch 79/1000\n",
      "347/347 - 1s - loss: 0.6039 - mean_squared_error: 0.6039 - mean_absolute_error: 0.1658 - 823ms/epoch - 2ms/step\n",
      "Epoch 80/1000\n",
      "347/347 - 1s - loss: 0.6078 - mean_squared_error: 0.6078 - mean_absolute_error: 0.1712 - 825ms/epoch - 2ms/step\n",
      "Epoch 81/1000\n",
      "347/347 - 1s - loss: 0.6043 - mean_squared_error: 0.6043 - mean_absolute_error: 0.1640 - 864ms/epoch - 2ms/step\n",
      "Epoch 82/1000\n",
      "347/347 - 1s - loss: 0.6012 - mean_squared_error: 0.6012 - mean_absolute_error: 0.1631 - 777ms/epoch - 2ms/step\n",
      "Epoch 83/1000\n",
      "347/347 - 1s - loss: 0.6000 - mean_squared_error: 0.6000 - mean_absolute_error: 0.1612 - 937ms/epoch - 3ms/step\n",
      "Epoch 84/1000\n",
      "347/347 - 1s - loss: 0.5976 - mean_squared_error: 0.5976 - mean_absolute_error: 0.1568 - 907ms/epoch - 3ms/step\n",
      "Epoch 85/1000\n",
      "347/347 - 1s - loss: 0.5955 - mean_squared_error: 0.5955 - mean_absolute_error: 0.1535 - 927ms/epoch - 3ms/step\n",
      "Epoch 86/1000\n",
      "347/347 - 1s - loss: 0.5949 - mean_squared_error: 0.5949 - mean_absolute_error: 0.1521 - 832ms/epoch - 2ms/step\n",
      "Epoch 87/1000\n",
      "347/347 - 1s - loss: 0.5915 - mean_squared_error: 0.5915 - mean_absolute_error: 0.1448 - 698ms/epoch - 2ms/step\n",
      "Epoch 88/1000\n",
      "347/347 - 1s - loss: 0.5957 - mean_squared_error: 0.5957 - mean_absolute_error: 0.1562 - 745ms/epoch - 2ms/step\n",
      "Epoch 89/1000\n",
      "347/347 - 1s - loss: 0.5933 - mean_squared_error: 0.5933 - mean_absolute_error: 0.1518 - 833ms/epoch - 2ms/step\n",
      "Epoch 90/1000\n",
      "347/347 - 1s - loss: 0.5922 - mean_squared_error: 0.5922 - mean_absolute_error: 0.1477 - 737ms/epoch - 2ms/step\n",
      "Epoch 91/1000\n",
      "347/347 - 1s - loss: 0.5883 - mean_squared_error: 0.5883 - mean_absolute_error: 0.1402 - 720ms/epoch - 2ms/step\n",
      "Epoch 92/1000\n",
      "347/347 - 1s - loss: 0.5901 - mean_squared_error: 0.5901 - mean_absolute_error: 0.1451 - 720ms/epoch - 2ms/step\n",
      "Epoch 93/1000\n",
      "347/347 - 1s - loss: 0.5866 - mean_squared_error: 0.5866 - mean_absolute_error: 0.1398 - 736ms/epoch - 2ms/step\n",
      "Epoch 94/1000\n",
      "347/347 - 1s - loss: 0.5853 - mean_squared_error: 0.5853 - mean_absolute_error: 0.1378 - 728ms/epoch - 2ms/step\n",
      "Epoch 95/1000\n",
      "347/347 - 1s - loss: 0.5871 - mean_squared_error: 0.5871 - mean_absolute_error: 0.1409 - 719ms/epoch - 2ms/step\n",
      "Epoch 96/1000\n",
      "347/347 - 1s - loss: 0.5835 - mean_squared_error: 0.5835 - mean_absolute_error: 0.1345 - 754ms/epoch - 2ms/step\n",
      "Epoch 97/1000\n",
      "347/347 - 1s - loss: 0.5878 - mean_squared_error: 0.5878 - mean_absolute_error: 0.1437 - 721ms/epoch - 2ms/step\n",
      "Epoch 98/1000\n",
      "347/347 - 1s - loss: 0.5822 - mean_squared_error: 0.5822 - mean_absolute_error: 0.1319 - 704ms/epoch - 2ms/step\n",
      "Epoch 99/1000\n",
      "347/347 - 1s - loss: 0.5870 - mean_squared_error: 0.5870 - mean_absolute_error: 0.1408 - 728ms/epoch - 2ms/step\n",
      "Epoch 100/1000\n",
      "347/347 - 1s - loss: 0.5862 - mean_squared_error: 0.5862 - mean_absolute_error: 0.1394 - 713ms/epoch - 2ms/step\n",
      "Epoch 101/1000\n",
      "347/347 - 1s - loss: 0.5826 - mean_squared_error: 0.5826 - mean_absolute_error: 0.1353 - 721ms/epoch - 2ms/step\n",
      "Epoch 102/1000\n",
      "347/347 - 1s - loss: 0.5821 - mean_squared_error: 0.5821 - mean_absolute_error: 0.1293 - 776ms/epoch - 2ms/step\n",
      "Epoch 103/1000\n",
      "347/347 - 1s - loss: 0.5811 - mean_squared_error: 0.5811 - mean_absolute_error: 0.1317 - 704ms/epoch - 2ms/step\n",
      "Epoch 104/1000\n",
      "347/347 - 1s - loss: 0.5794 - mean_squared_error: 0.5794 - mean_absolute_error: 0.1294 - 720ms/epoch - 2ms/step\n",
      "Epoch 105/1000\n",
      "347/347 - 1s - loss: 0.5807 - mean_squared_error: 0.5807 - mean_absolute_error: 0.1325 - 736ms/epoch - 2ms/step\n",
      "Epoch 106/1000\n",
      "347/347 - 1s - loss: 0.5821 - mean_squared_error: 0.5821 - mean_absolute_error: 0.1349 - 729ms/epoch - 2ms/step\n",
      "Epoch 107/1000\n",
      "347/347 - 1s - loss: 0.5785 - mean_squared_error: 0.5785 - mean_absolute_error: 0.1279 - 738ms/epoch - 2ms/step\n",
      "Epoch 108/1000\n",
      "347/347 - 1s - loss: 0.5784 - mean_squared_error: 0.5784 - mean_absolute_error: 0.1251 - 736ms/epoch - 2ms/step\n",
      "Epoch 109/1000\n",
      "347/347 - 1s - loss: 0.5781 - mean_squared_error: 0.5781 - mean_absolute_error: 0.1292 - 704ms/epoch - 2ms/step\n",
      "Epoch 110/1000\n",
      "347/347 - 1s - loss: 0.5765 - mean_squared_error: 0.5765 - mean_absolute_error: 0.1256 - 744ms/epoch - 2ms/step\n",
      "Epoch 111/1000\n",
      "347/347 - 1s - loss: 0.5771 - mean_squared_error: 0.5771 - mean_absolute_error: 0.1257 - 704ms/epoch - 2ms/step\n",
      "Epoch 112/1000\n",
      "347/347 - 1s - loss: 0.5795 - mean_squared_error: 0.5795 - mean_absolute_error: 0.1321 - 705ms/epoch - 2ms/step\n",
      "Epoch 113/1000\n",
      "347/347 - 1s - loss: 0.5732 - mean_squared_error: 0.5732 - mean_absolute_error: 0.1156 - 729ms/epoch - 2ms/step\n",
      "Epoch 114/1000\n",
      "347/347 - 1s - loss: 0.5829 - mean_squared_error: 0.5829 - mean_absolute_error: 0.1309 - 720ms/epoch - 2ms/step\n",
      "Epoch 115/1000\n",
      "347/347 - 1s - loss: 0.5722 - mean_squared_error: 0.5722 - mean_absolute_error: 0.1179 - 712ms/epoch - 2ms/step\n",
      "Epoch 116/1000\n",
      "347/347 - 1s - loss: 0.5736 - mean_squared_error: 0.5736 - mean_absolute_error: 0.1211 - 728ms/epoch - 2ms/step\n",
      "Epoch 117/1000\n",
      "347/347 - 1s - loss: 0.5726 - mean_squared_error: 0.5726 - mean_absolute_error: 0.1177 - 769ms/epoch - 2ms/step\n",
      "Epoch 118/1000\n",
      "347/347 - 1s - loss: 0.5755 - mean_squared_error: 0.5755 - mean_absolute_error: 0.1271 - 744ms/epoch - 2ms/step\n",
      "Epoch 119/1000\n",
      "347/347 - 1s - loss: 0.5726 - mean_squared_error: 0.5726 - mean_absolute_error: 0.1197 - 760ms/epoch - 2ms/step\n",
      "Epoch 120/1000\n",
      "347/347 - 1s - loss: 0.5713 - mean_squared_error: 0.5713 - mean_absolute_error: 0.1190 - 760ms/epoch - 2ms/step\n",
      "Epoch 121/1000\n",
      "347/347 - 1s - loss: 0.5707 - mean_squared_error: 0.5707 - mean_absolute_error: 0.1175 - 728ms/epoch - 2ms/step\n",
      "Epoch 122/1000\n",
      "347/347 - 1s - loss: 0.5697 - mean_squared_error: 0.5697 - mean_absolute_error: 0.1148 - 712ms/epoch - 2ms/step\n",
      "Epoch 123/1000\n",
      "347/347 - 1s - loss: 0.5704 - mean_squared_error: 0.5704 - mean_absolute_error: 0.1158 - 720ms/epoch - 2ms/step\n",
      "Epoch 124/1000\n",
      "347/347 - 1s - loss: 0.5705 - mean_squared_error: 0.5705 - mean_absolute_error: 0.1184 - 761ms/epoch - 2ms/step\n",
      "Epoch 125/1000\n",
      "347/347 - 1s - loss: 0.5769 - mean_squared_error: 0.5769 - mean_absolute_error: 0.1340 - 728ms/epoch - 2ms/step\n",
      "Epoch 126/1000\n",
      "347/347 - 1s - loss: 0.5681 - mean_squared_error: 0.5681 - mean_absolute_error: 0.1121 - 786ms/epoch - 2ms/step\n",
      "Epoch 127/1000\n",
      "347/347 - 1s - loss: 0.5675 - mean_squared_error: 0.5675 - mean_absolute_error: 0.1125 - 959ms/epoch - 3ms/step\n",
      "Epoch 128/1000\n",
      "347/347 - 1s - loss: 0.5671 - mean_squared_error: 0.5671 - mean_absolute_error: 0.1095 - 1s/epoch - 3ms/step\n",
      "Epoch 129/1000\n",
      "347/347 - 1s - loss: 0.5715 - mean_squared_error: 0.5715 - mean_absolute_error: 0.1199 - 888ms/epoch - 3ms/step\n",
      "Epoch 130/1000\n"
     ]
    },
    {
     "ename": "KeyboardInterrupt",
     "evalue": "",
     "output_type": "error",
     "traceback": [
      "\u001b[1;31m---------------------------------------------------------------------------\u001b[0m",
      "\u001b[1;31mKeyboardInterrupt\u001b[0m                         Traceback (most recent call last)",
      "Input \u001b[1;32mIn [31]\u001b[0m, in \u001b[0;36m<cell line: 8>\u001b[1;34m()\u001b[0m\n\u001b[0;32m      2\u001b[0m model \u001b[38;5;241m=\u001b[39m tf\u001b[38;5;241m.\u001b[39mkeras\u001b[38;5;241m.\u001b[39mmodels\u001b[38;5;241m.\u001b[39mSequential([\n\u001b[0;32m      3\u001b[0m     tf\u001b[38;5;241m.\u001b[39mkeras\u001b[38;5;241m.\u001b[39mlayers\u001b[38;5;241m.\u001b[39mDense(\u001b[38;5;241m32\u001b[39m, activation\u001b[38;5;241m=\u001b[39m\u001b[38;5;124m'\u001b[39m\u001b[38;5;124mrelu\u001b[39m\u001b[38;5;124m'\u001b[39m),\n\u001b[0;32m      4\u001b[0m     tf\u001b[38;5;241m.\u001b[39mkeras\u001b[38;5;241m.\u001b[39mlayers\u001b[38;5;241m.\u001b[39mDense(\u001b[38;5;241m16\u001b[39m, activation\u001b[38;5;241m=\u001b[39m\u001b[38;5;124m'\u001b[39m\u001b[38;5;124mrelu\u001b[39m\u001b[38;5;124m'\u001b[39m),\n\u001b[0;32m      5\u001b[0m ])\n\u001b[0;32m      6\u001b[0m model\u001b[38;5;241m.\u001b[39mcompile(optimizer\u001b[38;5;241m=\u001b[39m\u001b[38;5;124m'\u001b[39m\u001b[38;5;124madam\u001b[39m\u001b[38;5;124m'\u001b[39m, loss\u001b[38;5;241m=\u001b[39mtf\u001b[38;5;241m.\u001b[39mkeras\u001b[38;5;241m.\u001b[39mlosses\u001b[38;5;241m.\u001b[39mMSE, metrics\u001b[38;5;241m=\u001b[39m[tf\u001b[38;5;241m.\u001b[39mkeras\u001b[38;5;241m.\u001b[39mmetrics\u001b[38;5;241m.\u001b[39mMeanSquaredError(),\n\u001b[0;32m      7\u001b[0m                                                                    tf\u001b[38;5;241m.\u001b[39mkeras\u001b[38;5;241m.\u001b[39mmetrics\u001b[38;5;241m.\u001b[39mMeanAbsoluteError()])\n\u001b[1;32m----> 8\u001b[0m \u001b[43mmodel\u001b[49m\u001b[38;5;241;43m.\u001b[39;49m\u001b[43mfit\u001b[49m\u001b[43m(\u001b[49m\u001b[43mx_train\u001b[49m\u001b[43m,\u001b[49m\u001b[43m \u001b[49m\u001b[43my_train\u001b[49m\u001b[43m,\u001b[49m\u001b[43m \u001b[49m\u001b[43mbatch_size\u001b[49m\u001b[38;5;241;43m=\u001b[39;49m\u001b[38;5;241;43m32\u001b[39;49m\u001b[43m,\u001b[49m\u001b[43m \u001b[49m\u001b[43mepochs\u001b[49m\u001b[38;5;241;43m=\u001b[39;49m\u001b[38;5;241;43m1000\u001b[39;49m\u001b[43m,\u001b[49m\u001b[43m \u001b[49m\u001b[43mverbose\u001b[49m\u001b[38;5;241;43m=\u001b[39;49m\u001b[38;5;241;43m2\u001b[39;49m\u001b[43m)\u001b[49m\n\u001b[0;32m      9\u001b[0m model\u001b[38;5;241m.\u001b[39mevaluate(x_validation, y_validation, verbose\u001b[38;5;241m=\u001b[39m\u001b[38;5;241m2\u001b[39m)\n",
      "File \u001b[1;32m~\\anaconda3\\lib\\site-packages\\keras\\utils\\traceback_utils.py:65\u001b[0m, in \u001b[0;36mfilter_traceback.<locals>.error_handler\u001b[1;34m(*args, **kwargs)\u001b[0m\n\u001b[0;32m     63\u001b[0m filtered_tb \u001b[38;5;241m=\u001b[39m \u001b[38;5;28;01mNone\u001b[39;00m\n\u001b[0;32m     64\u001b[0m \u001b[38;5;28;01mtry\u001b[39;00m:\n\u001b[1;32m---> 65\u001b[0m     \u001b[38;5;28;01mreturn\u001b[39;00m fn(\u001b[38;5;241m*\u001b[39margs, \u001b[38;5;241m*\u001b[39m\u001b[38;5;241m*\u001b[39mkwargs)\n\u001b[0;32m     66\u001b[0m \u001b[38;5;28;01mexcept\u001b[39;00m \u001b[38;5;167;01mException\u001b[39;00m \u001b[38;5;28;01mas\u001b[39;00m e:\n\u001b[0;32m     67\u001b[0m     filtered_tb \u001b[38;5;241m=\u001b[39m _process_traceback_frames(e\u001b[38;5;241m.\u001b[39m__traceback__)\n",
      "File \u001b[1;32m~\\anaconda3\\lib\\site-packages\\keras\\engine\\training.py:1655\u001b[0m, in \u001b[0;36mModel.fit\u001b[1;34m(self, x, y, batch_size, epochs, verbose, callbacks, validation_split, validation_data, shuffle, class_weight, sample_weight, initial_epoch, steps_per_epoch, validation_steps, validation_batch_size, validation_freq, max_queue_size, workers, use_multiprocessing)\u001b[0m\n\u001b[0;32m   1653\u001b[0m \u001b[38;5;66;03m# No error, now safe to assign to logs.\u001b[39;00m\n\u001b[0;32m   1654\u001b[0m logs \u001b[38;5;241m=\u001b[39m tmp_logs\n\u001b[1;32m-> 1655\u001b[0m end_step \u001b[38;5;241m=\u001b[39m step \u001b[38;5;241m+\u001b[39m \u001b[43mdata_handler\u001b[49m\u001b[38;5;241;43m.\u001b[39;49m\u001b[43mstep_increment\u001b[49m\n\u001b[0;32m   1656\u001b[0m callbacks\u001b[38;5;241m.\u001b[39mon_train_batch_end(end_step, logs)\n\u001b[0;32m   1657\u001b[0m \u001b[38;5;28;01mif\u001b[39;00m \u001b[38;5;28mself\u001b[39m\u001b[38;5;241m.\u001b[39mstop_training:\n",
      "File \u001b[1;32m~\\anaconda3\\lib\\site-packages\\keras\\engine\\data_adapter.py:1391\u001b[0m, in \u001b[0;36mDataHandler.step_increment\u001b[1;34m(self)\u001b[0m\n\u001b[0;32m   1388\u001b[0m             \u001b[38;5;28mself\u001b[39m\u001b[38;5;241m.\u001b[39m_current_step \u001b[38;5;241m+\u001b[39m\u001b[38;5;241m=\u001b[39m steps_remaining\n\u001b[0;32m   1389\u001b[0m             \u001b[38;5;28mself\u001b[39m\u001b[38;5;241m.\u001b[39m_steps_per_execution\u001b[38;5;241m.\u001b[39massign(original_spe)\n\u001b[1;32m-> 1391\u001b[0m \u001b[38;5;129m@property\u001b[39m\n\u001b[0;32m   1392\u001b[0m \u001b[38;5;28;01mdef\u001b[39;00m \u001b[38;5;21mstep_increment\u001b[39m(\u001b[38;5;28mself\u001b[39m):\n\u001b[0;32m   1393\u001b[0m     \u001b[38;5;124;03m\"\"\"The number to increment the step for `on_batch_end` methods.\"\"\"\u001b[39;00m\n\u001b[0;32m   1394\u001b[0m     \u001b[38;5;28;01mreturn\u001b[39;00m \u001b[38;5;28mself\u001b[39m\u001b[38;5;241m.\u001b[39m_step_increment\n",
      "\u001b[1;31mKeyboardInterrupt\u001b[0m: "
     ]
    }
   ],
   "source": [
    "#Much better but takes a long time to train and could cause overfitting (Best model with all the data)\n",
    "model = tf.keras.models.Sequential([\n",
    "    tf.keras.layers.Dense(32, activation='relu'),\n",
    "    tf.keras.layers.Dense(16, activation='relu'),\n",
    "])\n",
    "model.compile(optimizer='adam', loss=tf.keras.losses.MSE, metrics=[tf.keras.metrics.MeanSquaredError(),\n",
    "                                                                   tf.keras.metrics.MeanAbsoluteError()])\n",
    "model.fit(x_train, y_train, batch_size=32, epochs=1000, verbose=2)\n",
    "model.evaluate(x_validation, y_validation, verbose=2)"
   ]
  },
  {
   "cell_type": "code",
   "execution_count": null,
   "id": "2c3f7f23",
   "metadata": {},
   "outputs": [],
   "source": [
    "Final Test"
   ]
  },
  {
   "cell_type": "code",
   "execution_count": 23,
   "id": "9837079e",
   "metadata": {
    "scrolled": true
   },
   "outputs": [
    {
     "name": "stdout",
     "output_type": "stream",
     "text": [
      "44/44 - 0s - loss: 0.9996 - mean_squared_error: 0.9996 - mean_absolute_error: 0.5657 - 229ms/epoch - 5ms/step\n"
     ]
    },
    {
     "data": {
      "text/plain": [
       "[0.9995534420013428, 0.9995534420013428, 0.5657118558883667]"
      ]
     },
     "execution_count": 23,
     "metadata": {},
     "output_type": "execute_result"
    }
   ],
   "source": [
    "model.evaluate(x_test, y_test, verbose=2)"
   ]
  },
  {
   "cell_type": "code",
   "execution_count": 15,
   "id": "9e8d4c4b",
   "metadata": {},
   "outputs": [],
   "source": [
    "%matplotlib inline\n",
    "class PlotData():\n",
    "    \"\"\"\n",
    "    A module for storing plot data in a more portable, reusable form\n",
    "    Stores x and y data and metadata (title, labels, etc.)\n",
    "    Parameters: 2 arrays of x and y datasets (to allow multiple relations per plot), \n",
    "                plot type as a string, title, axis labels, and grid boolean\n",
    "    \"\"\"\n",
    "    def __init__(self, xdata, ydata, ptype='plot', title='Figure', xlabel='x axis', ylabel='y axis', grid=True):\n",
    "        # Throws error if xdata and ydata length do not match\n",
    "        if not len(xdata) == len(ydata):\n",
    "            raise Exception('Data mismatch error: must have the same number of corresponding x and y fields')\n",
    "            \n",
    "        # Throws error if x and y subdata length do not match\n",
    "        for i in range(len(xdata)):\n",
    "            if not len(xdata[i]) == len(ydata[i]):\n",
    "                raise Exception(f'Data mismatch error: {i}th set of x and y data have unequal length')\n",
    "            \n",
    "        self.xdata = xdata\n",
    "        self.ydata = ydata\n",
    "        self.ptype = ptype\n",
    "        self.title = title\n",
    "        self.xlabel = xlabel\n",
    "        self.ylabel = ylabel\n",
    "        self.grid = grid\n",
    "        \n",
    "        \n",
    "    def plot(self, style='b--'):\n",
    "        \"\"\"\n",
    "        May not be showing it but it do be plotting the data\n",
    "        Input: Optional style\n",
    "        \"\"\"\n",
    "        # Plots based on type\n",
    "        if self.ptype == 'plot':\n",
    "            for i in range(len(self.xdata)):\n",
    "                plt.plot(self.xdata[i], self.ydata[i], style)\n",
    "                \n",
    "        elif self.ptype == 'scatter':\n",
    "            for i in range(len(self.xdata)):\n",
    "                plt.scatter(self.xdata[i], self.ydata[i], style)\n",
    "            \n",
    "        elif self.ptype == 'bar':\n",
    "            for i in range(len(self.xdata)):\n",
    "                plt.bar(self.xdata[i], self.ydata[i])\n",
    "            \n",
    "        else:\n",
    "            print(f'{self.title} has invalid plot type')\n",
    "                \n",
    "        plt.title(self.title)\n",
    "        plt.xlabel(self.xlabel)\n",
    "        plt.ylabel(self.ylabel)\n",
    "        if self.grid:\n",
    "            plt.grid()\n",
    "            \n",
    "            \n",
    "    def addData(x, y):\n",
    "        \"\"\"\n",
    "        Clears the figure and adds a new x-y relation to the data\n",
    "        Input: x and y data to add\n",
    "        Output: It adds the data wow\n",
    "        \"\"\"\n",
    "        plt.clf()\n",
    "        self.xdata.append(x)\n",
    "        self.ydata.append(y)\n",
    "            \n",
    "        "
   ]
  },
  {
   "cell_type": "code",
   "execution_count": 17,
   "id": "35125264",
   "metadata": {},
   "outputs": [],
   "source": [
    "class Plotter():\n",
    "    \"\"\"\n",
    "    Takes plot data and auto-generates subplots\n",
    "    Parameters: a list of PlotData objects\n",
    "    \"\"\"\n",
    "    \n",
    "    def __init__(self, plots, subdim=None):\n",
    "        self.plots = plots\n",
    "        self.subdim = subdim\n",
    "        self.arrange(self.subdim)\n",
    "        self.figsize = (5*self.subdim[1], 5*self.subdim[0])\n",
    "        \n",
    "        \n",
    "        \n",
    "    def addPlot(plot, loc=-1, subdim=None):\n",
    "        \"\"\"\n",
    "        Adds a new subplot and rearranges the figure\n",
    "        Input: the PlotData to add, the location to display it, and a custom aspect ratio if desired\n",
    "        Output:  It does it\n",
    "        \"\"\"\n",
    "        self.plots.insert(loc, plot)\n",
    "        if not subdim == None:\n",
    "            self.subdim = subdim\n",
    "        else:\n",
    "            arrange()\n",
    "    \n",
    "    \n",
    "    def addData(x, y, loc):\n",
    "        \"\"\"\n",
    "        Adds data to a subplot\n",
    "        Input: x and y data to add, and which subplot to add to\n",
    "        Output: It also does it\n",
    "        \"\"\"\n",
    "        self.plots[loc].addData(x, y)\n",
    "    \n",
    "    \n",
    "    def arrange(self, subdim=None):\n",
    "        \"\"\"\n",
    "        Helper function to redistrubte subplots to maximize squareness or fulfill user-set dimensions\n",
    "        Input: Optional custom dimensions\n",
    "        Output: :)\n",
    "        \"\"\"\n",
    "        if not subdim == None:\n",
    "            # Throw error if there are not enough subplot spaces\n",
    "            if subdim[0] * subdim[1] < len(self.plots):\n",
    "                raise Exception('Specified plot dimensions cannot fit specidied subplot data. Try doing math')\n",
    "            self.subdim = subdim\n",
    "        else:\n",
    "            # Find the arrangement closest to square that fills all subplots\n",
    "            for i in range(int(np.sqrt(len(self.plots))), 0, -1):\n",
    "                if len(self.plots) % i == 0:\n",
    "                    self.subdim = (i, len(self.plots) // i)\n",
    "                    break\n",
    "        \n",
    "                \n",
    "    def plot(self):\n",
    "        \"\"\"\n",
    "        Generates the figure\n",
    "        \"\"\"\n",
    "        plt.figure(figsize=self.figsize)\n",
    "        for i in range(len(self.plots)):\n",
    "            plt.subplot(self.subdim[0], self.subdim[1], i + 1)\n",
    "            self.plots[i].plot()\n",
    "        plt.tight_layout()\n",
    "        \n",
    "        "
   ]
  },
  {
   "cell_type": "code",
   "execution_count": 11,
   "id": "c72b5d37",
   "metadata": {},
   "outputs": [],
   "source": [
    "def genDrivers(weekendDF):\n",
    "    \"\"\"\n",
    "    Generates a dictionary of driver IDs to driver stats\n",
    "    Input: Dataframe\n",
    "    Output: Dictionary of driver IDs to driver stat dataframe (which is a subset of the input)\n",
    "    \"\"\"\n",
    "    idList = list(set(weekendDF['Driver'].values))\n",
    "    return {ID : weekendDF.loc[weekendDF['Driver'] == ID] for ID in idList}"
   ]
  },
  {
   "cell_type": "code",
   "execution_count": 18,
   "id": "539912fd",
   "metadata": {},
   "outputs": [],
   "source": [
    "def getAverages(dataframe, race, driverIDs, category):\n",
    "    \"\"\"\n",
    "    Generates a list of average values for a driver stat in a given race\n",
    "    Input: Dictionary of races to dictionaries of IDs to driver dataframes, the race to \n",
    "           select, the driver to select, and the driver stat to average\n",
    "    Output: The mean value\n",
    "    \"\"\"\n",
    "    \n",
    "    averages = []\n",
    "    for ID in driverIDs:\n",
    "        # If the driver is not present they get 0\n",
    "        try:\n",
    "            averages.append(dataframe[race][ID][category].values.mean().item() / 1.0e9)\n",
    "        except:\n",
    "            averages.append(0)\n",
    "    return averages"
   ]
  },
  {
   "cell_type": "code",
   "execution_count": 21,
   "id": "df5b42e8",
   "metadata": {},
   "outputs": [
    {
     "data": {
      "image/png": "[encoded data removed]",
      "text/plain": [
       "<Figure size 720x720 with 4 Axes>"
      ]
     },
     "metadata": {
      "needs_background": "light"
     },
     "output_type": "display_data"
    }
   ],
   "source": [
    "# Trim down to just the data we're interested in\n",
    "categories = ['Driver', 'LapTime', 'Sector1Time', 'Sector2Time','Sector3Time', 'Compound', 'QualifyingLapTime', \n",
    "          'QualifyingSector1Time', 'QualifyingSector2Time','QualifyingSector3Time', 'QualifyingCompound', 'Weekend']\n",
    "plotDF = masterList[categories].copy()\n",
    "\n",
    "# Split data into a dictionary by race\n",
    "raceNames = [race[0] for race in raceCalendar.values()]\n",
    "raceDFs = {race : plotDF.loc[plotDF[\"Weekend\"] == race] for race in raceNames}\n",
    "\n",
    "# Split dictionary of races further into to dictionaries of driver IDs to driver data\n",
    "# Get a specific datafield with raceDrivers['raceName']['driverID']['field'].values\n",
    "raceDrivers = {name : genDrivers(raceDFs[name]) for name in raceNames}\n",
    "\n",
    "# Set chosen races and make sorted list of driver IDs\n",
    "selectedRaces = [raceNames[6], raceNames[9], raceNames[15], raceNames[18]]\n",
    "#selectedRaces = raceNames\n",
    "driverIDs = list(set([int(ID) for ID in plotDF['Driver'].values]))\n",
    "driverIDs.sort()\n",
    "driverIDs = [str(ID) for ID in driverIDs]\n",
    "\n",
    "# Collect average practice lap time and average qualifying lap time for each selected race\n",
    "lapAverages, qualifyingAverages = [], []\n",
    "for race in selectedRaces:\n",
    "    lapAverages.append(getAverages(raceDrivers, race, driverIDs, 'LapTime'))\n",
    "    qualifyingAverages.append(getAverages(raceDrivers, race, driverIDs, 'QualifyingLapTime'))\n",
    "\n",
    "# Auto-generate plots\n",
    "xDataSets = [[j for j in range(len(lapAverages[i]))] for i in range(2)]\n",
    "lapPlotData = [PlotData(xDataSets, [lapAverages[i], qualifyingAverages[i]], 'bar', selectedRaces[i], 'Time', 'Driver') for i in range(len(lapAverages))]\n",
    "plotter = Plotter(lapPlotData)\n",
    "plotter.plot()\n",
    "plt.savefig('plots.png')\n",
    "    \n",
    "\n"
   ]
  },
  {
   "cell_type": "code",
   "execution_count": null,
   "id": "77984506",
   "metadata": {},
   "outputs": [],
   "source": []
  }
 ],
 "metadata": {
  "kernelspec": {
   "display_name": "Python 3 (ipykernel)",
   "language": "python",
   "name": "python3"
  },
  "language_info": {
   "codemirror_mode": {
    "name": "ipython",
    "version": 3
   },
   "file_extension": ".py",
   "mimetype": "text/x-python",
   "name": "python",
   "nbconvert_exporter": "python",
   "pygments_lexer": "ipython3",
   "version": "3.9.12"
  },
  "vscode": {
   "interpreter": {
    "hash": "2a8dfe095fce2b5e88c64a2c3ee084c8e0e0d70b23e7b95b1cfb538be294c5c8"
   }
  }
 },
 "nbformat": 4,
 "nbformat_minor": 5
}
